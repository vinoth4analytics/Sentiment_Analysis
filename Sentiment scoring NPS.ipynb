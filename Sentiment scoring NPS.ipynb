{
 "cells": [
  {
   "cell_type": "code",
   "execution_count": 1,
   "metadata": {},
   "outputs": [
    {
     "name": "stdout",
     "output_type": "stream",
     "text": [
      "[nltk_data] Downloading package stopwords to\n",
      "[nltk_data]     C:\\Users\\vinoths\\AppData\\Roaming\\nltk_data...\n",
      "[nltk_data]   Package stopwords is already up-to-date!\n"
     ]
    }
   ],
   "source": [
    "# importing required libraries\n",
    "import pandas as pd\n",
    "import nltk\n",
    "nltk.download('stopwords')\n",
    "from nltk.corpus import stopwords\n",
    "from sklearn.feature_extraction.text import TfidfVectorizer,TfidfTransformer,CountVectorizer\n",
    "from sklearn.model_selection import train_test_split\n",
    "from sklearn import naive_bayes\n",
    "from sklearn.naive_bayes import MultinomialNB,BernoulliNB\n",
    "from sklearn.metrics import roc_auc_score\n",
    "import numpy as np\n",
    "from datetime import datetime\n",
    "# importing pickle for model API\n",
    "import pickle"
   ]
  },
  {
   "cell_type": "code",
   "execution_count": 2,
   "metadata": {},
   "outputs": [],
   "source": [
    "# load the model from disk\n",
    "filename = 'C:/FILES/TRAINING/Python training/Sentiment Analysis/sentimentMNB.sav'\n",
    "loaded_model1 = pickle.load(open(filename, 'rb'))"
   ]
  },
  {
   "cell_type": "code",
   "execution_count": 3,
   "metadata": {},
   "outputs": [],
   "source": [
    "# load the model from disk\n",
    "filename = 'C:/FILES/TRAINING/Python training/Sentiment Analysis/sentimentBNB.sav'\n",
    "loaded_model2 = pickle.load(open(filename, 'rb'))"
   ]
  },
  {
   "cell_type": "code",
   "execution_count": null,
   "metadata": {},
   "outputs": [],
   "source": []
  },
  {
   "cell_type": "code",
   "execution_count": 4,
   "metadata": {},
   "outputs": [
    {
     "name": "stdout",
     "output_type": "stream",
     "text": [
      "enter the file name in format=> C:/FILES/TRAINING/Python training/Sentiment Analysis/Data for scoring.csvC:/FILES/TRAINING/Python training/Sentiment Analysis/Data for scoring.csv\n"
     ]
    }
   ],
   "source": [
    "# Load the scoring file from the disk\n",
    "filename = input(\"enter the file name in format=> C:/FILES/TRAINING/Python training/Sentiment Analysis/Data for scoring.csv\")\n",
    "test = pd.read_csv(filename, encoding = \"ISO-8859-1\")"
   ]
  },
  {
   "cell_type": "code",
   "execution_count": null,
   "metadata": {},
   "outputs": [],
   "source": []
  },
  {
   "cell_type": "code",
   "execution_count": 5,
   "metadata": {},
   "outputs": [],
   "source": [
    "# Load vocabulary for vectorizing and applying vectorizer for the scoring data\n",
    "filename = 'C:/FILES/TRAINING/Python training/Sentiment Analysis/vocabulary.pkl'\n",
    "stopset = set(stopwords.words('english'))\n",
    "vectorizer = TfidfVectorizer(use_idf = True, lowercase = True, strip_accents = 'ascii', stop_words = stopset, vocabulary=pickle.load(open(filename, \"rb\")))\n",
    "x_test = vectorizer.fit_transform(test['Q2'])"
   ]
  },
  {
   "cell_type": "code",
   "execution_count": 6,
   "metadata": {},
   "outputs": [],
   "source": [
    "# Finding probability scores for reviews using both MultinomialNB and BernoulliNB\n",
    "proba = loaded_model1.predict_proba(x_test.toarray())\n",
    "proba0 = loaded_model2.predict_proba(x_test.toarray())"
   ]
  },
  {
   "cell_type": "code",
   "execution_count": 7,
   "metadata": {},
   "outputs": [],
   "source": [
    "# finding the average probability of the test cases using both models\n",
    "probability = (proba[:,1] + proba0[:,1]) /2"
   ]
  },
  {
   "cell_type": "code",
   "execution_count": 8,
   "metadata": {},
   "outputs": [],
   "source": [
    "# applying cut-off (0.50) to the probabilities and arriving at the predicted class\n",
    "prediction = np.where(probability < 0.5, 0, 1)"
   ]
  },
  {
   "cell_type": "code",
   "execution_count": 9,
   "metadata": {},
   "outputs": [],
   "source": [
    "# adding the predictions column to the dataset\n",
    "sentiments = pd.concat([test, pd.DataFrame(pd.Series(prediction))], axis=1, ignore_index=True)"
   ]
  },
  {
   "cell_type": "code",
   "execution_count": 10,
   "metadata": {},
   "outputs": [],
   "source": [
    "# renaming the column names with the actual names\n",
    "col = list(test.columns)\n",
    "col.append('SENTIMENT')\n",
    "names = col\n",
    "dictionary = dict(zip(sentiments.columns, names))\n",
    "sentiments.rename(columns=dictionary, inplace=True)"
   ]
  },
  {
   "cell_type": "code",
   "execution_count": 12,
   "metadata": {},
   "outputs": [],
   "source": []
  },
  {
   "cell_type": "code",
   "execution_count": 13,
   "metadata": {},
   "outputs": [],
   "source": [
    "# changing the predictions '0' as 'Negative' and '1' as 'Positive'\n",
    "sentiments['SENTIMENT'] = sentiments['SENTIMENT'].apply(lambda x: 'Negative' if x == 0 else 'Positive')"
   ]
  },
  {
   "cell_type": "code",
   "execution_count": 14,
   "metadata": {},
   "outputs": [
    {
     "name": "stdout",
     "output_type": "stream",
     "text": [
      "Enter the path to save the file in format=> C:/FILES/TRAINING/Python training/Sentiment Analysis/C:/FILES/TRAINING/Python training/Sentiment Analysis/\n"
     ]
    }
   ],
   "source": [
    "# getting the path for the output file from the user\n",
    "path = input('Enter the path to save the file in format=> C:/FILES/TRAINING/Python training/Sentiment Analysis/')"
   ]
  },
  {
   "cell_type": "code",
   "execution_count": null,
   "metadata": {},
   "outputs": [],
   "source": [
    "# getting the output filename from the user\n",
    "filename = input('Enter the filename as .csv=>')"
   ]
  },
  {
   "cell_type": "code",
   "execution_count": null,
   "metadata": {},
   "outputs": [],
   "source": [
    "# saving the file in the specified path as a csv\n",
    "file = path+filename\n",
    "sentiments.to_csv(file)"
   ]
  },
  {
   "cell_type": "code",
   "execution_count": null,
   "metadata": {},
   "outputs": [],
   "source": []
  },
  {
   "cell_type": "code",
   "execution_count": null,
   "metadata": {},
   "outputs": [],
   "source": []
  }
 ],
 "metadata": {
  "kernelspec": {
   "display_name": "Python 3",
   "language": "python",
   "name": "python3"
  },
  "language_info": {
   "codemirror_mode": {
    "name": "ipython",
    "version": 3
   },
   "file_extension": ".py",
   "mimetype": "text/x-python",
   "name": "python",
   "nbconvert_exporter": "python",
   "pygments_lexer": "ipython3",
   "version": "3.6.4"
  }
 },
 "nbformat": 4,
 "nbformat_minor": 2
}
